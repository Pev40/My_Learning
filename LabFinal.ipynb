{
  "cells": [
    {
      "cell_type": "markdown",
      "metadata": {
        "id": "view-in-github",
        "colab_type": "text"
      },
      "source": [
        "<a href=\"https://colab.research.google.com/github/Pev40/My_Learning/blob/main/LabFinal.ipynb\" target=\"_parent\"><img src=\"https://colab.research.google.com/assets/colab-badge.svg\" alt=\"Open In Colab\"/></a>"
      ]
    },
    {
      "cell_type": "markdown",
      "source": [
        "#Detector de Frutas"
      ],
      "metadata": {
        "id": "PiOBkzbLnCDR"
      }
    },
    {
      "cell_type": "code",
      "execution_count": null,
      "metadata": {
        "colab": {
          "base_uri": "https://localhost:8080/"
        },
        "id": "Y8cDtxLIBHgQ",
        "outputId": "dcb57bc1-8a82-499e-a7b1-1a7854363616"
      },
      "outputs": [
        {
          "output_type": "stream",
          "name": "stdout",
          "text": [
            "Sat Aug  5 19:13:45 2023       \n",
            "+-----------------------------------------------------------------------------+\n",
            "| NVIDIA-SMI 525.105.17   Driver Version: 525.105.17   CUDA Version: 12.0     |\n",
            "|-------------------------------+----------------------+----------------------+\n",
            "| GPU  Name        Persistence-M| Bus-Id        Disp.A | Volatile Uncorr. ECC |\n",
            "| Fan  Temp  Perf  Pwr:Usage/Cap|         Memory-Usage | GPU-Util  Compute M. |\n",
            "|                               |                      |               MIG M. |\n",
            "|===============================+======================+======================|\n",
            "|   0  Tesla T4            Off  | 00000000:00:04.0 Off |                    0 |\n",
            "| N/A   48C    P8     9W /  70W |      0MiB / 15360MiB |      0%      Default |\n",
            "|                               |                      |                  N/A |\n",
            "+-------------------------------+----------------------+----------------------+\n",
            "                                                                               \n",
            "+-----------------------------------------------------------------------------+\n",
            "| Processes:                                                                  |\n",
            "|  GPU   GI   CI        PID   Type   Process name                  GPU Memory |\n",
            "|        ID   ID                                                   Usage      |\n",
            "|=============================================================================|\n",
            "|  No running processes found                                                 |\n",
            "+-----------------------------------------------------------------------------+\n"
          ]
        }
      ],
      "source": [
        "!nvidia-smi"
      ]
    },
    {
      "cell_type": "code",
      "execution_count": null,
      "metadata": {
        "colab": {
          "base_uri": "https://localhost:8080/"
        },
        "id": "CjpPg4mGKc1v",
        "outputId": "53ea1c3a-4dcc-4ab8-88df-629360e86f39"
      },
      "outputs": [
        {
          "output_type": "stream",
          "name": "stdout",
          "text": [
            "/content\n"
          ]
        }
      ],
      "source": [
        "import os\n",
        "HOME = os.getcwd()\n",
        "print(HOME)"
      ]
    },
    {
      "cell_type": "code",
      "execution_count": null,
      "metadata": {
        "colab": {
          "base_uri": "https://localhost:8080/"
        },
        "id": "tdSMcABDNKW-",
        "outputId": "4208cf72-de6e-4616-d7f8-29b27b0755f7"
      },
      "outputs": [
        {
          "output_type": "stream",
          "name": "stderr",
          "text": [
            "Ultralytics YOLOv8.0.20 🚀 Python-3.10.12 torch-2.0.1+cu118 CUDA:0 (Tesla T4, 15102MiB)\n",
            "Setup complete ✅ (2 CPUs, 12.7 GB RAM, 24.4/78.2 GB disk)\n"
          ]
        }
      ],
      "source": [
        "# Pip install method (recommended)\n",
        "#Instalación de YOLO\n",
        "!pip install ultralytics==8.0.20\n",
        "\n",
        "from IPython import display\n",
        "display.clear_output()\n",
        "\n",
        "import ultralytics\n",
        "ultralytics.checks()"
      ]
    },
    {
      "cell_type": "code",
      "execution_count": null,
      "metadata": {
        "id": "VOEYrlBoP9-E"
      },
      "outputs": [],
      "source": [
        "from ultralytics import YOLO\n",
        "\n",
        "from IPython.display import display, Image"
      ]
    },
    {
      "cell_type": "markdown",
      "metadata": {
        "id": "HnnZSm5OQfPQ"
      },
      "source": [
        "## CLI Basics"
      ]
    },
    {
      "cell_type": "markdown",
      "metadata": {
        "id": "K33S7zlkQku0"
      },
      "source": [
        "If you want to train, validate or run inference on models and don't need to make any modifications to the code, using YOLO command line interface is the easiest way to get started. Read more about CLI in [Ultralytics YOLO Docs](https://docs.ultralytics.com/usage/cli/).\n",
        "\n",
        "```\n",
        "yolo task=detect    mode=train    model=yolov8n.yaml      args...\n",
        "          classify       predict        yolov8n-cls.yaml  args...\n",
        "          segment        val            yolov8n-seg.yaml  args...\n",
        "                         export         yolov8n.pt        format=onnx  args...\n",
        "```"
      ]
    },
    {
      "cell_type": "markdown",
      "metadata": {
        "id": "s5RGYA6sPgEd"
      },
      "source": [
        "## Inference with Pre-trained COCO Model"
      ]
    },
    {
      "cell_type": "markdown",
      "metadata": {
        "id": "fT1qD4toTTw0"
      },
      "source": [
        "### 💻 CLI"
      ]
    },
    {
      "cell_type": "markdown",
      "metadata": {
        "id": "ZaE1kLS8R4CV"
      },
      "source": [
        "`yolo mode=predict` runs YOLOv8 inference on a variety of sources, downloading models automatically from the latest YOLOv8 release, and saving results to `runs/predict`."
      ]
    },
    {
      "cell_type": "markdown",
      "metadata": {
        "id": "AFMBYQtMVL-B"
      },
      "source": [
        "### 🐍 Python SDK\n",
        "\n",
        "The simplest way of simply using YOLOv8 directly in a Python environment."
      ]
    },
    {
      "cell_type": "code",
      "execution_count": null,
      "metadata": {
        "colab": {
          "base_uri": "https://localhost:8080/"
        },
        "id": "Rx9NWF-sVN6Y",
        "outputId": "a798df0a-2431-4a30-b354-e5524f4565e0"
      },
      "outputs": [
        {
          "output_type": "stream",
          "name": "stderr",
          "text": [
            "Downloading https://github.com/ultralytics/assets/releases/download/v0.0.0/yolov8n.pt to /content/yolov8n.pt...\n",
            "100%|██████████| 6.23M/6.23M [00:00<00:00, 281MB/s]\n",
            "\n",
            "Ultralytics YOLOv8.0.20 🚀 Python-3.10.12 torch-2.0.1+cu118 CUDA:0 (Tesla T4, 15102MiB)\n",
            "YOLOv8n summary (fused): 168 layers, 3151904 parameters, 0 gradients, 8.7 GFLOPs\n",
            "Downloading https://media.roboflow.com/notebooks/examples/dog.jpeg to dog.jpeg...\n",
            "100%|██████████| 104k/104k [00:00<00:00, 57.1MB/s]\n"
          ]
        }
      ],
      "source": [
        "model = YOLO(f'{HOME}/yolov8n.pt')\n",
        "results = model.predict(source='https://media.roboflow.com/notebooks/examples/dog.jpeg', conf=0.25)"
      ]
    },
    {
      "cell_type": "code",
      "execution_count": null,
      "metadata": {
        "colab": {
          "base_uri": "https://localhost:8080/"
        },
        "id": "kAi4PvrItTCf",
        "outputId": "935f8583-322b-41e7-97c2-250159b7ba64"
      },
      "outputs": [
        {
          "output_type": "execute_result",
          "data": {
            "text/plain": [
              "tensor([[   0.,  314.,  625., 1278.],\n",
              "        [  55.,  250.,  648., 1266.],\n",
              "        [ 633.,  720.,  701.,  786.]], device='cuda:0')"
            ]
          },
          "metadata": {},
          "execution_count": 6
        }
      ],
      "source": [
        "results[0].boxes.xyxy"
      ]
    },
    {
      "cell_type": "code",
      "execution_count": null,
      "metadata": {
        "colab": {
          "base_uri": "https://localhost:8080/"
        },
        "id": "HqT2M01K1LUb",
        "outputId": "0d234a66-3b1c-49a4-c716-a16021995c1a"
      },
      "outputs": [
        {
          "output_type": "execute_result",
          "data": {
            "text/plain": [
              "tensor([0.72713, 0.29066, 0.28456], device='cuda:0')"
            ]
          },
          "metadata": {},
          "execution_count": 7
        }
      ],
      "source": [
        "results[0].boxes.conf"
      ]
    },
    {
      "cell_type": "code",
      "execution_count": null,
      "metadata": {
        "colab": {
          "base_uri": "https://localhost:8080/"
        },
        "id": "gKIwJ5yw1PMb",
        "outputId": "f16ce0b3-1b34-40c3-882a-aceddd04ff7e"
      },
      "outputs": [
        {
          "output_type": "execute_result",
          "data": {
            "text/plain": [
              "tensor([ 0., 16.,  2.], device='cuda:0')"
            ]
          },
          "metadata": {},
          "execution_count": 8
        }
      ],
      "source": [
        "results[0].boxes.cls"
      ]
    },
    {
      "cell_type": "code",
      "execution_count": null,
      "metadata": {
        "colab": {
          "base_uri": "https://localhost:8080/"
        },
        "id": "BSd93ZJzZZKt",
        "outputId": "6d8d41ca-a714-4e5f-cd56-e41f41b002ab"
      },
      "outputs": [
        {
          "output_type": "stream",
          "name": "stdout",
          "text": [
            "/content/datasets\n",
            "\u001b[2K     \u001b[90m━━━━━━━━━━━━━━━━━━━━━━━━━━━━━━━━━━━━━━━\u001b[0m \u001b[32m57.4/57.4 kB\u001b[0m \u001b[31m961.7 kB/s\u001b[0m eta \u001b[36m0:00:00\u001b[0m\n",
            "\u001b[2K     \u001b[90m━━━━━━━━━━━━━━━━━━━━━━━━━━━━━━━━━━━━━━━\u001b[0m \u001b[32m155.3/155.3 kB\u001b[0m \u001b[31m5.2 MB/s\u001b[0m eta \u001b[36m0:00:00\u001b[0m\n",
            "\u001b[2K     \u001b[90m━━━━━━━━━━━━━━━━━━━━━━━━━━━━━━━━━━━━━━━━\u001b[0m \u001b[32m58.8/58.8 kB\u001b[0m \u001b[31m7.8 MB/s\u001b[0m eta \u001b[36m0:00:00\u001b[0m\n",
            "\u001b[2K     \u001b[90m━━━━━━━━━━━━━━━━━━━━━━━━━━━━━━━━━━━━━━━━\u001b[0m \u001b[32m67.8/67.8 kB\u001b[0m \u001b[31m9.1 MB/s\u001b[0m eta \u001b[36m0:00:00\u001b[0m\n",
            "\u001b[2K     \u001b[90m━━━━━━━━━━━━━━━━━━━━━━━━━━━━━━━━━━━━━━━━\u001b[0m \u001b[32m48.5/48.5 kB\u001b[0m \u001b[31m6.9 MB/s\u001b[0m eta \u001b[36m0:00:00\u001b[0m\n",
            "\u001b[?25h  Preparing metadata (setup.py) ... \u001b[?25l\u001b[?25hdone\n",
            "\u001b[2K     \u001b[90m━━━━━━━━━━━━━━━━━━━━━━━━━━━━━━━━━━━━━━━━\u001b[0m \u001b[32m54.5/54.5 kB\u001b[0m \u001b[31m7.6 MB/s\u001b[0m eta \u001b[36m0:00:00\u001b[0m\n",
            "\u001b[2K     \u001b[90m━━━━━━━━━━━━━━━━━━━━━━━━━━━━━━━━━━━━━━━━\u001b[0m \u001b[32m3.1/3.1 MB\u001b[0m \u001b[31m81.9 MB/s\u001b[0m eta \u001b[36m0:00:00\u001b[0m\n",
            "\u001b[?25h  Building wheel for wget (setup.py) ... \u001b[?25l\u001b[?25hdone\n",
            "loading Roboflow workspace...\n",
            "loading Roboflow project...\n",
            "Dependency ultralytics==8.0.134 is required but found version=8.0.20, to fix: `pip install ultralytics==8.0.134`\n",
            "Downloading Dataset Version Zip in Multiclass-Object-Detection-Model-1 to yolov8: 100% [280465262 / 280465262] bytes\n"
          ]
        },
        {
          "output_type": "stream",
          "name": "stderr",
          "text": [
            "Extracting Dataset Version Zip to Multiclass-Object-Detection-Model-1 in yolov8:: 100%|██████████| 6482/6482 [00:02<00:00, 2492.74it/s]\n"
          ]
        }
      ],
      "source": [
        "!mkdir {HOME}/datasets\n",
        "%cd {HOME}/datasets\n",
        "\n",
        "!pip install roboflow --quiet\n",
        "\n",
        "from roboflow import Roboflow\n",
        "rf = Roboflow(api_key=\"LLgAAT0r02Gzh7rgOTrV\")\n",
        "project = rf.workspace(\"piyush-dubey\").project(\"multiclass-object-detection-model\")\n",
        "dataset = project.version(1).download(\"yolov8\")"
      ]
    },
    {
      "cell_type": "markdown",
      "metadata": {
        "id": "YUjFBKKqXa-u"
      },
      "source": [
        "## Entrenamiento"
      ]
    },
    {
      "cell_type": "code",
      "execution_count": null,
      "metadata": {
        "colab": {
          "base_uri": "https://localhost:8080/"
        },
        "id": "D2YkphuiaE7_",
        "outputId": "29bd5b7d-69c7-415a-f641-6f849a104462"
      },
      "outputs": [
        {
          "output_type": "stream",
          "name": "stdout",
          "text": [
            "/content\n",
            "Downloading https://github.com/ultralytics/assets/releases/download/v0.0.0/yolov8s.pt to yolov8s.pt...\n",
            "100% 21.5M/21.5M [00:00<00:00, 311MB/s]\n",
            "\n",
            "Ultralytics YOLOv8.0.20 🚀 Python-3.10.12 torch-2.0.1+cu118 CUDA:0 (Tesla T4, 15102MiB)\n",
            "\u001b[34m\u001b[1myolo/engine/trainer: \u001b[0mtask=detect, mode=train, model=yolov8s.yaml, data=/content/datasets/Multiclass-Object-Detection-Model-1/data.yaml, epochs=25, patience=50, batch=16, imgsz=800, save=True, cache=False, device=, workers=8, project=None, name=None, exist_ok=False, pretrained=False, optimizer=SGD, verbose=True, seed=0, deterministic=True, single_cls=False, image_weights=False, rect=False, cos_lr=False, close_mosaic=10, resume=False, overlap_mask=True, mask_ratio=4, dropout=False, val=True, save_json=False, save_hybrid=False, conf=0.001, iou=0.7, max_det=300, half=False, dnn=False, plots=True, source=ultralytics/assets/, show=False, save_txt=False, save_conf=False, save_crop=False, hide_labels=False, hide_conf=False, vid_stride=1, line_thickness=3, visualize=False, augment=False, agnostic_nms=False, classes=None, retina_masks=False, boxes=True, format=torchscript, keras=False, optimize=False, int8=False, dynamic=False, simplify=False, opset=17, workspace=4, nms=False, lr0=0.01, lrf=0.01, momentum=0.937, weight_decay=0.001, warmup_epochs=3.0, warmup_momentum=0.8, warmup_bias_lr=0.1, box=7.5, cls=0.5, dfl=1.5, fl_gamma=0.0, label_smoothing=0.0, nbs=64, hsv_h=0.015, hsv_s=0.7, hsv_v=0.4, degrees=0.0, translate=0.1, scale=0.5, shear=0.0, perspective=0.0, flipud=0.0, fliplr=0.5, mosaic=1.0, mixup=0.0, copy_paste=0.0, cfg=None, v5loader=False, save_dir=runs/detect/train\n",
            "Downloading https://ultralytics.com/assets/Arial.ttf to /root/.config/Ultralytics/Arial.ttf...\n",
            "100% 755k/755k [00:00<00:00, 102MB/s]\n",
            "2023-08-05 19:15:45.562358: W tensorflow/compiler/tf2tensorrt/utils/py_utils.cc:38] TF-TRT Warning: Could not find TensorRT\n",
            "Overriding model.yaml nc=80 with nc=27\n",
            "\n",
            "                   from  n    params  module                                       arguments                     \n",
            "  0                  -1  1       928  ultralytics.nn.modules.Conv                  [3, 32, 3, 2]                 \n",
            "  1                  -1  1     18560  ultralytics.nn.modules.Conv                  [32, 64, 3, 2]                \n",
            "  2                  -1  1     29056  ultralytics.nn.modules.C2f                   [64, 64, 1, True]             \n",
            "  3                  -1  1     73984  ultralytics.nn.modules.Conv                  [64, 128, 3, 2]               \n",
            "  4                  -1  2    197632  ultralytics.nn.modules.C2f                   [128, 128, 2, True]           \n",
            "  5                  -1  1    295424  ultralytics.nn.modules.Conv                  [128, 256, 3, 2]              \n",
            "  6                  -1  2    788480  ultralytics.nn.modules.C2f                   [256, 256, 2, True]           \n",
            "  7                  -1  1   1180672  ultralytics.nn.modules.Conv                  [256, 512, 3, 2]              \n",
            "  8                  -1  1   1838080  ultralytics.nn.modules.C2f                   [512, 512, 1, True]           \n",
            "  9                  -1  1    656896  ultralytics.nn.modules.SPPF                  [512, 512, 5]                 \n",
            " 10                  -1  1         0  torch.nn.modules.upsampling.Upsample         [None, 2, 'nearest']          \n",
            " 11             [-1, 6]  1         0  ultralytics.nn.modules.Concat                [1]                           \n",
            " 12                  -1  1    591360  ultralytics.nn.modules.C2f                   [768, 256, 1]                 \n",
            " 13                  -1  1         0  torch.nn.modules.upsampling.Upsample         [None, 2, 'nearest']          \n",
            " 14             [-1, 4]  1         0  ultralytics.nn.modules.Concat                [1]                           \n",
            " 15                  -1  1    148224  ultralytics.nn.modules.C2f                   [384, 128, 1]                 \n",
            " 16                  -1  1    147712  ultralytics.nn.modules.Conv                  [128, 128, 3, 2]              \n",
            " 17            [-1, 12]  1         0  ultralytics.nn.modules.Concat                [1]                           \n",
            " 18                  -1  1    493056  ultralytics.nn.modules.C2f                   [384, 256, 1]                 \n",
            " 19                  -1  1    590336  ultralytics.nn.modules.Conv                  [256, 256, 3, 2]              \n",
            " 20             [-1, 9]  1         0  ultralytics.nn.modules.Concat                [1]                           \n",
            " 21                  -1  1   1969152  ultralytics.nn.modules.C2f                   [768, 512, 1]                 \n",
            " 22        [15, 18, 21]  1   2126497  ultralytics.nn.modules.Detect                [27, [128, 256, 512]]         \n",
            "Model summary: 225 layers, 11146049 parameters, 11146033 gradients, 28.7 GFLOPs\n",
            "\n",
            "Transferred 349/355 items from pretrained weights\n",
            "\u001b[34m\u001b[1moptimizer:\u001b[0m SGD(lr=0.01) with parameter groups 57 weight(decay=0.0), 64 weight(decay=0.001), 63 bias\n",
            "\u001b[34m\u001b[1mtrain: \u001b[0mScanning /content/datasets/Multiclass-Object-Detection-Model-1/train/labels... 2789 images, 0 backgrounds, 0 corrupt: 100% 2789/2789 [00:01<00:00, 1652.05it/s]\n",
            "\u001b[34m\u001b[1mtrain: \u001b[0mNew cache created: /content/datasets/Multiclass-Object-Detection-Model-1/train/labels.cache\n",
            "\u001b[34m\u001b[1malbumentations: \u001b[0mBlur(p=0.01, blur_limit=(3, 7)), MedianBlur(p=0.01, blur_limit=(3, 7)), ToGray(p=0.01), CLAHE(p=0.01, clip_limit=(1, 4.0), tile_grid_size=(8, 8))\n",
            "\u001b[34m\u001b[1mval: \u001b[0mScanning /content/datasets/Multiclass-Object-Detection-Model-1/valid/labels... 211 images, 0 backgrounds, 0 corrupt: 100% 211/211 [00:00<00:00, 1599.43it/s]\n",
            "\u001b[34m\u001b[1mval: \u001b[0mNew cache created: /content/datasets/Multiclass-Object-Detection-Model-1/valid/labels.cache\n",
            "Image sizes 800 train, 800 val\n",
            "Using 2 dataloader workers\n",
            "Logging results to \u001b[1mruns/detect/train\u001b[0m\n",
            "Starting training for 25 epochs...\n",
            "\n",
            "      Epoch    GPU_mem   box_loss   cls_loss   dfl_loss  Instances       Size\n",
            "       1/25      6.86G      1.374      4.222      1.893         13        800: 100% 175/175 [02:31<00:00,  1.16it/s]\n",
            "                 Class     Images  Instances      Box(P          R      mAP50  mAP50-95): 100% 7/7 [00:06<00:00,  1.10it/s]\n",
            "                   all        211        350      0.384      0.218      0.207      0.112\n",
            "                 apple        211          9     0.0248      0.333     0.0223    0.00808\n",
            "          apple_rotten        211         11      0.358      0.273      0.226      0.178\n",
            "                banana        211          7      0.258      0.429      0.318      0.144\n",
            "         banana_rotten        211         11          0          0     0.0811      0.036\n",
            "              capsicum        211          6          1          0     0.0439     0.0147\n",
            "       capsicum_rotten        211          6          1          0      0.039     0.0185\n",
            "                 guava        211         28      0.494      0.357      0.437      0.153\n",
            "          guava_rotten        211         23          0          0     0.0725     0.0415\n",
            "                 lemon        211         38      0.154      0.132      0.144      0.108\n",
            "                 mango        211         46          0          0       0.12     0.0778\n",
            "          mango_rotten        211         11          1          0     0.0788     0.0489\n",
            "                orange        211         32      0.177      0.844      0.503       0.33\n",
            "         orange_rotten        211         35        0.6      0.229      0.283       0.12\n",
            "               package        211          6      0.448      0.833      0.622      0.484\n",
            "           pomegranate        211         18      0.329      0.722      0.661       0.24\n",
            "    pomegranate_rotten        211         28      0.598     0.0357      0.291      0.139\n",
            "            strawberry        211          5          1          0     0.0152    0.00268\n",
            "     strawberry_rotten        211         11          0          0     0.0449     0.0212\n",
            "                tomato        211         13          0          0     0.0266     0.0154\n",
            "         tomato_rotten        211          6      0.245      0.167      0.108     0.0548\n",
            "\n",
            "      Epoch    GPU_mem   box_loss   cls_loss   dfl_loss  Instances       Size\n",
            "       2/25      8.42G      1.061      2.231      1.549         11        800: 100% 175/175 [02:25<00:00,  1.20it/s]\n",
            "                 Class     Images  Instances      Box(P          R      mAP50  mAP50-95): 100% 7/7 [00:03<00:00,  1.81it/s]\n",
            "                   all        211        350      0.359      0.408      0.346      0.175\n",
            "                 apple        211          9     0.0906      0.556      0.113     0.0829\n",
            "          apple_rotten        211         11      0.855      0.364      0.581      0.421\n",
            "                banana        211          7     0.0867      0.714      0.201     0.0707\n",
            "         banana_rotten        211         11      0.644      0.455      0.528      0.255\n",
            "              capsicum        211          6          0          0     0.0199    0.00627\n",
            "       capsicum_rotten        211          6          1          0     0.0105    0.00803\n",
            "                 guava        211         28      0.597      0.607      0.626      0.197\n",
            "          guava_rotten        211         23      0.314      0.957      0.771      0.369\n",
            "                 lemon        211         38      0.104      0.237      0.121     0.0893\n",
            "                 mango        211         46          0          0       0.11     0.0662\n",
            "          mango_rotten        211         11      0.959      0.545      0.743       0.49\n",
            "                orange        211         32       0.11      0.906      0.247      0.113\n",
            "         orange_rotten        211         35      0.255      0.257      0.245     0.0972\n",
            "               package        211          6      0.271      0.667      0.727      0.635\n",
            "           pomegranate        211         18      0.589      0.833      0.816      0.187\n",
            "    pomegranate_rotten        211         28          1      0.351      0.787      0.281\n",
            "            strawberry        211          5     0.0686        0.2     0.0414      0.019\n",
            "     strawberry_rotten        211         11      0.197      0.273      0.162     0.0834\n",
            "                tomato        211         13    0.00669     0.0769     0.0288     0.0156\n",
            "         tomato_rotten        211          6     0.0392      0.167      0.039     0.0206\n",
            "\n",
            "      Epoch    GPU_mem   box_loss   cls_loss   dfl_loss  Instances       Size\n",
            "       3/25      8.42G      1.042      1.844      1.518         18        800: 100% 175/175 [02:24<00:00,  1.21it/s]\n",
            "                 Class     Images  Instances      Box(P          R      mAP50  mAP50-95): 100% 7/7 [00:03<00:00,  1.86it/s]\n",
            "                   all        211        350      0.556      0.223      0.237      0.129\n",
            "                 apple        211          9     0.0107      0.333     0.0072    0.00182\n",
            "          apple_rotten        211         11          1          0     0.0296     0.0143\n",
            "                banana        211          7      0.158      0.714      0.553      0.216\n",
            "         banana_rotten        211         11          1          0      0.193     0.0646\n",
            "              capsicum        211          6          0          0     0.0196     0.0088\n",
            "       capsicum_rotten        211          6          1          0     0.0153     0.0102\n",
            "                 guava        211         28      0.939      0.464      0.587       0.21\n",
            "          guava_rotten        211         23          1          0     0.0119    0.00893\n",
            "                 lemon        211         38      0.627      0.398      0.473       0.31\n",
            "                 mango        211         46          1          0       0.17      0.119\n",
            "          mango_rotten        211         11          1          0     0.0418     0.0345\n",
            "                orange        211         32       0.33      0.375      0.348      0.208\n",
            "         orange_rotten        211         35      0.348      0.114      0.233      0.127\n",
            "               package        211          6      0.922      0.667      0.675      0.581\n",
            "           pomegranate        211         18       0.24      0.778      0.803      0.474\n",
            "    pomegranate_rotten        211         28          1          0      0.101     0.0553\n",
            "            strawberry        211          5      0.487      0.384      0.214     0.0297\n",
            "     strawberry_rotten        211         11          0          0      0.125     0.0234\n",
            "                tomato        211         13     0.0546      0.231     0.0535     0.0294\n",
            "         tomato_rotten        211          6          0          0     0.0833     0.0455\n",
            "\n",
            "      Epoch    GPU_mem   box_loss   cls_loss   dfl_loss  Instances       Size\n",
            "       4/25      8.42G      1.064      1.779      1.529         16        800: 100% 175/175 [02:24<00:00,  1.21it/s]\n",
            "                 Class     Images  Instances      Box(P          R      mAP50  mAP50-95): 100% 7/7 [00:03<00:00,  1.94it/s]\n",
            "                   all        211        350      0.269      0.239      0.178     0.0655\n",
            "                 apple        211          9     0.0258      0.556     0.0445     0.0301\n",
            "          apple_rotten        211         11          0          0     0.0837     0.0568\n",
            "                banana        211          7     0.0133      0.571      0.292     0.0422\n",
            "         banana_rotten        211         11     0.0565      0.364     0.0562     0.0162\n",
            "              capsicum        211          6          0          0    0.00202   0.000607\n",
            "       capsicum_rotten        211          6      0.115     0.0573     0.0704     0.0436\n",
            "                 guava        211         28      0.271        0.5      0.424     0.0614\n",
            "          guava_rotten        211         23          0          0    0.00492   0.000727\n",
            "                 lemon        211         38      0.232      0.366      0.154      0.112\n",
            "                 mango        211         46      0.924      0.264      0.612      0.271\n",
            "          mango_rotten        211         11          1          0     0.0952     0.0398\n",
            "                orange        211         32      0.149      0.284      0.167     0.0661\n",
            "         orange_rotten        211         35      0.195      0.173      0.109     0.0472\n",
            "               package        211          6      0.162      0.167      0.194      0.146\n",
            "           pomegranate        211         18       0.76      0.706      0.767      0.191\n",
            "    pomegranate_rotten        211         28      0.582     0.0532      0.114     0.0439\n",
            "            strawberry        211          5      0.267        0.2      0.114     0.0114\n",
            "     strawberry_rotten        211         11      0.433     0.0787      0.123     0.0283\n",
            "                tomato        211         13       0.11      0.385      0.072     0.0487\n",
            "         tomato_rotten        211          6     0.0756     0.0504     0.0627     0.0517\n",
            "\n",
            "      Epoch    GPU_mem   box_loss   cls_loss   dfl_loss  Instances       Size\n",
            "       5/25      8.42G      1.064       1.68      1.537         21        800: 100% 175/175 [02:24<00:00,  1.21it/s]\n",
            "                 Class     Images  Instances      Box(P          R      mAP50  mAP50-95): 100% 7/7 [00:03<00:00,  1.82it/s]\n",
            "                   all        211        350      0.449      0.293      0.271       0.15\n",
            "                 apple        211          9    0.00537      0.111     0.0107    0.00346\n",
            "          apple_rotten        211         11          1      0.165      0.543      0.296\n",
            "                banana        211          7     0.0273      0.857      0.149     0.0291\n",
            "         banana_rotten        211         11          1          0      0.052     0.0133\n",
            "              capsicum        211          6          0          0     0.0115    0.00368\n",
            "       capsicum_rotten        211          6          0          0     0.0222    0.00611\n",
            "                 guava        211         28      0.627      0.964      0.923      0.363\n",
            "          guava_rotten        211         23          1          0      0.031     0.0223\n",
            "                 lemon        211         38      0.161      0.289      0.112     0.0823\n",
            "                 mango        211         46          0          0     0.0919     0.0565\n",
            "          mango_rotten        211         11          1          0      0.402      0.254\n",
            "                orange        211         32      0.122      0.906      0.421      0.231\n",
            "         orange_rotten        211         35      0.417      0.286      0.328      0.103\n",
            "               package        211          6      0.189          1      0.886      0.736\n",
            "           pomegranate        211         18      0.929      0.722       0.79      0.424\n",
            "    pomegranate_rotten        211         28          1          0      0.297      0.194\n",
            "            strawberry        211          5          1          0     0.0172    0.00307\n",
            "     strawberry_rotten        211         11      0.312     0.0909      0.164     0.0721\n",
            "                tomato        211         13     0.0417      0.308     0.0618     0.0308\n",
            "         tomato_rotten        211          6      0.155      0.167      0.104     0.0756\n",
            "\n",
            "      Epoch    GPU_mem   box_loss   cls_loss   dfl_loss  Instances       Size\n",
            "       6/25      8.42G      1.031      1.589      1.506         20        800: 100% 175/175 [02:23<00:00,  1.22it/s]\n",
            "                 Class     Images  Instances      Box(P          R      mAP50  mAP50-95): 100% 7/7 [00:04<00:00,  1.56it/s]\n",
            "                   all        211        350      0.443      0.398      0.343      0.179\n",
            "                 apple        211          9     0.0218      0.667     0.0243     0.0138\n",
            "          apple_rotten        211         11       0.66      0.636      0.682      0.542\n",
            "                banana        211          7      0.034      0.857      0.186     0.0404\n",
            "         banana_rotten        211         11      0.283      0.182      0.264      0.143\n",
            "              capsicum        211          6          1          0          0          0\n",
            "       capsicum_rotten        211          6          0          0     0.0259     0.0156\n",
            "                 guava        211         28      0.292      0.357      0.185     0.0384\n",
            "          guava_rotten        211         23      0.619      0.212      0.547       0.27\n",
            "                 lemon        211         38      0.429      0.368      0.378      0.283\n",
            "                 mango        211         46      0.649      0.261      0.431       0.27\n",
            "          mango_rotten        211         11      0.462      0.364      0.552      0.335\n",
            "                orange        211         32      0.212      0.656      0.182     0.0748\n",
            "         orange_rotten        211         35       0.39      0.475      0.382      0.112\n",
            "               package        211          6      0.458          1      0.995      0.664\n",
            "           pomegranate        211         18      0.632      0.611      0.592      0.133\n",
            "    pomegranate_rotten        211         28      0.887       0.28      0.466      0.194\n",
            "            strawberry        211          5          1          0     0.0264    0.00264\n",
            "     strawberry_rotten        211         11      0.609       0.71      0.604       0.27\n",
            "                tomato        211         13      0.118      0.154      0.162     0.0703\n",
            "         tomato_rotten        211          6       0.11      0.167      0.177      0.108\n",
            "\n",
            "      Epoch    GPU_mem   box_loss   cls_loss   dfl_loss  Instances       Size\n",
            "       7/25      8.42G     0.9894      1.454      1.463         18        800: 100% 175/175 [02:22<00:00,  1.22it/s]\n",
            "                 Class     Images  Instances      Box(P          R      mAP50  mAP50-95): 100% 7/7 [00:04<00:00,  1.49it/s]\n",
            "                   all        211        350      0.414      0.441      0.417      0.228\n",
            "                 apple        211          9     0.0159      0.556     0.0543     0.0321\n",
            "          apple_rotten        211         11      0.776      0.182      0.538      0.361\n",
            "                banana        211          7     0.0925      0.857      0.516      0.175\n",
            "         banana_rotten        211         11          0          0      0.137     0.0566\n",
            "              capsicum        211          6          1          0    0.00252    0.00122\n",
            "       capsicum_rotten        211          6          0          0     0.0113    0.00409\n",
            "                 guava        211         28      0.746      0.838       0.87       0.27\n",
            "          guava_rotten        211         23      0.626      0.727       0.78      0.421\n",
            "                 lemon        211         38      0.573      0.632      0.577      0.449\n",
            "                 mango        211         46     0.0964     0.0217      0.224      0.135\n",
            "          mango_rotten        211         11      0.882      0.727      0.875      0.618\n",
            "                orange        211         32      0.155      0.781      0.282      0.149\n",
            "         orange_rotten        211         35      0.283      0.257      0.269      0.107\n",
            "               package        211          6      0.873          1      0.995      0.784\n",
            "           pomegranate        211         18          1       0.94      0.974      0.392\n",
            "    pomegranate_rotten        211         28      0.628      0.679      0.723      0.374\n",
            "            strawberry        211          5          0          0          0          0\n",
            "     strawberry_rotten        211         11      0.377      0.455      0.402      0.167\n",
            "                tomato        211         13          0          0     0.0143     0.0103\n",
            "         tomato_rotten        211          6      0.164      0.167     0.0958     0.0585\n",
            "\n",
            "      Epoch    GPU_mem   box_loss   cls_loss   dfl_loss  Instances       Size\n",
            "       8/25      8.42G     0.9559      1.364      1.436         16        800: 100% 175/175 [02:23<00:00,  1.22it/s]\n",
            "                 Class     Images  Instances      Box(P          R      mAP50  mAP50-95): 100% 7/7 [00:04<00:00,  1.48it/s]\n",
            "                   all        211        350      0.603      0.439      0.497      0.237\n",
            "                 apple        211          9      0.174      0.556      0.362      0.216\n",
            "          apple_rotten        211         11      0.812     0.0909       0.64      0.435\n",
            "                banana        211          7      0.263      0.571      0.638      0.219\n",
            "         banana_rotten        211         11          1          0      0.418       0.19\n",
            "              capsicum        211          6          1          0     0.0309    0.00804\n",
            "       capsicum_rotten        211          6          1          0     0.0255     0.0109\n",
            "                 guava        211         28      0.705      0.598      0.629      0.104\n",
            "          guava_rotten        211         23      0.607          1      0.869        0.4\n",
            "                 lemon        211         38      0.418     0.0397      0.469      0.329\n",
            "                 mango        211         46      0.595     0.0217      0.293      0.155\n",
            "          mango_rotten        211         11       0.72      0.703      0.808       0.39\n",
            "                orange        211         32      0.193      0.406      0.291     0.0966\n",
            "         orange_rotten        211         35      0.402      0.543      0.474      0.136\n",
            "               package        211          6      0.726          1      0.995      0.797\n",
            "           pomegranate        211         18      0.805      0.944      0.883      0.171\n",
            "    pomegranate_rotten        211         28      0.636      0.893      0.905      0.331\n",
            "            strawberry        211          5          1          0     0.0594     0.0141\n",
            "     strawberry_rotten        211         11       0.55      0.455      0.428       0.22\n",
            "                tomato        211         13      0.185      0.462      0.335      0.204\n",
            "         tomato_rotten        211          6      0.271        0.5      0.388       0.31\n",
            "\n",
            "      Epoch    GPU_mem   box_loss   cls_loss   dfl_loss  Instances       Size\n",
            "       9/25      8.42G     0.9221      1.295      1.411         10        800: 100% 175/175 [02:21<00:00,  1.23it/s]\n",
            "                 Class     Images  Instances      Box(P          R      mAP50  mAP50-95): 100% 7/7 [00:04<00:00,  1.55it/s]\n",
            "                   all        211        350      0.452      0.399      0.416      0.245\n",
            "                 apple        211          9     0.0262      0.667      0.106     0.0623\n",
            "          apple_rotten        211         11      0.486      0.517      0.421      0.252\n",
            "                banana        211          7      0.149      0.857      0.726      0.467\n",
            "         banana_rotten        211         11       0.41      0.636      0.647      0.372\n",
            "              capsicum        211          6          0          0          0          0\n",
            "       capsicum_rotten        211          6          1          0     0.0522     0.0334\n",
            "                 guava        211         28      0.906      0.689      0.892      0.374\n",
            "          guava_rotten        211         23      0.675      0.261       0.48      0.371\n",
            "                 lemon        211         38      0.473      0.132      0.271       0.22\n",
            "                 mango        211         46      0.586     0.0435      0.347      0.229\n",
            "          mango_rotten        211         11      0.796      0.356      0.551      0.417\n",
            "                orange        211         32      0.203      0.969      0.309      0.137\n",
            "         orange_rotten        211         35      0.734      0.237      0.525       0.19\n",
            "               package        211          6      0.722          1      0.995       0.82\n",
            "           pomegranate        211         18       0.64      0.888      0.801       0.32\n",
            "    pomegranate_rotten        211         28      0.853      0.208      0.611      0.297\n",
            "            strawberry        211          5          0          0    0.00822    0.00129\n",
            "     strawberry_rotten        211         11      0.325      0.364      0.372      0.167\n",
            "                tomato        211         13     0.0665      0.154      0.163      0.137\n",
            "         tomato_rotten        211          6          0          0       0.04     0.0262\n",
            "\n",
            "      Epoch    GPU_mem   box_loss   cls_loss   dfl_loss  Instances       Size\n",
            "      10/25      8.42G     0.9046      1.233      1.404         18        800: 100% 175/175 [02:23<00:00,  1.22it/s]\n",
            "                 Class     Images  Instances      Box(P          R      mAP50  mAP50-95): 100% 7/7 [00:04<00:00,  1.62it/s]\n",
            "                   all        211        350      0.664      0.463      0.524      0.314\n",
            "                 apple        211          9       0.14      0.889      0.675      0.392\n",
            "          apple_rotten        211         11          1          0      0.489      0.347\n",
            "                banana        211          7       0.35      0.857        0.6      0.298\n",
            "         banana_rotten        211         11      0.589     0.0909      0.266      0.129\n",
            "              capsicum        211          6          1          0     0.0616     0.0445\n",
            "       capsicum_rotten        211          6          1          0     0.0982     0.0596\n",
            "                 guava        211         28       0.94      0.857      0.897       0.24\n",
            "          guava_rotten        211         23          1      0.476      0.938      0.759\n",
            "                 lemon        211         38      0.837      0.316      0.539      0.435\n",
            "                 mango        211         46      0.359       0.11      0.329      0.217\n",
            "          mango_rotten        211         11      0.702       0.43      0.607      0.461\n",
            "                orange        211         32      0.264      0.752      0.274      0.149\n",
            "         orange_rotten        211         35      0.603       0.52      0.587      0.196\n",
            "               package        211          6      0.799          1      0.972      0.619\n",
            "           pomegranate        211         18       0.92      0.944      0.988      0.476\n",
            "    pomegranate_rotten        211         28       0.91      0.929      0.962      0.651\n",
            "            strawberry        211          5          1          0     0.0401    0.00607\n",
            "     strawberry_rotten        211         11      0.466      0.455      0.367      0.155\n",
            "                tomato        211         13      0.405      0.629      0.638      0.533\n",
            "         tomato_rotten        211          6          0          0      0.147      0.109\n",
            "\n",
            "      Epoch    GPU_mem   box_loss   cls_loss   dfl_loss  Instances       Size\n",
            "      11/25      8.42G     0.9112      1.189      1.397         22        800: 100% 175/175 [02:25<00:00,  1.20it/s]\n",
            "                 Class     Images  Instances      Box(P          R      mAP50  mAP50-95): 100% 7/7 [00:03<00:00,  1.84it/s]\n",
            "                   all        211        350      0.533      0.523      0.507      0.282\n",
            "                 apple        211          9     0.0808      0.778      0.591      0.414\n",
            "          apple_rotten        211         11      0.852      0.526      0.693        0.5\n",
            "                banana        211          7      0.167      0.857      0.474      0.207\n",
            "         banana_rotten        211         11      0.594      0.182      0.406      0.132\n",
            "              capsicum        211          6          1          0     0.0999     0.0828\n",
            "       capsicum_rotten        211          6          1          0     0.0308     0.0254\n",
            "                 guava        211         28      0.679      0.893      0.884      0.333\n",
            "          guava_rotten        211         23      0.714      0.826      0.835       0.48\n",
            "                 lemon        211         38      0.424      0.421      0.372      0.279\n",
            "                 mango        211         46      0.808      0.459      0.659      0.326\n",
            "          mango_rotten        211         11      0.861      0.568      0.799      0.424\n",
            "                orange        211         32      0.194      0.562      0.193     0.0586\n",
            "         orange_rotten        211         35      0.301      0.371      0.208      0.068\n",
            "               package        211          6      0.637          1      0.995      0.863\n",
            "           pomegranate        211         18      0.861          1      0.992      0.414\n",
            "    pomegranate_rotten        211         28      0.888      0.929       0.93      0.517\n",
            "            strawberry        211          5          0          0    0.00516    0.00155\n",
            "     strawberry_rotten        211         11      0.462      0.624      0.521       0.19\n",
            "                tomato        211         13      0.138      0.462      0.322      0.223\n",
            "         tomato_rotten        211          6          0          0      0.137      0.103\n",
            "\n",
            "      Epoch    GPU_mem   box_loss   cls_loss   dfl_loss  Instances       Size\n",
            "      12/25      8.42G     0.8808      1.124      1.366         18        800: 100% 175/175 [02:23<00:00,  1.22it/s]\n",
            "                 Class     Images  Instances      Box(P          R      mAP50  mAP50-95): 100% 7/7 [00:03<00:00,  1.86it/s]\n",
            "                   all        211        350      0.497      0.539      0.516      0.296\n",
            "                 apple        211          9     0.0349      0.889      0.247       0.17\n",
            "          apple_rotten        211         11      0.785      0.336      0.608      0.477\n",
            "                banana        211          7      0.176      0.857      0.717      0.364\n",
            "         banana_rotten        211         11      0.524      0.545      0.577      0.257\n",
            "              capsicum        211          6          1          0    0.00917    0.00733\n",
            "       capsicum_rotten        211          6          1          0      0.159     0.0812\n",
            "                 guava        211         28      0.414      0.786      0.732      0.166\n",
            "          guava_rotten        211         23      0.516          1      0.992      0.673\n",
            "                 lemon        211         38      0.655        0.3      0.525      0.428\n",
            "                 mango        211         46      0.624      0.261      0.535      0.347\n",
            "          mango_rotten        211         11      0.832          1       0.94      0.585\n",
            "                orange        211         32      0.191      0.719      0.227      0.103\n",
            "         orange_rotten        211         35      0.575      0.657      0.643      0.204\n",
            "               package        211          6      0.534          1      0.995      0.738\n",
            "           pomegranate        211         18      0.743      0.889      0.926      0.471\n",
            "    pomegranate_rotten        211         28          1      0.737      0.941       0.59\n",
            "            strawberry        211          5          0          0     0.0677    0.00677\n",
            "     strawberry_rotten        211         11      0.286      0.182      0.245     0.0777\n",
            "                tomato        211         13     0.0556      0.615      0.178      0.147\n",
            "         tomato_rotten        211          6          0          0     0.0615     0.0339\n",
            "\n",
            "      Epoch    GPU_mem   box_loss   cls_loss   dfl_loss  Instances       Size\n",
            "      13/25      8.42G     0.8544      1.087      1.359         18        800: 100% 175/175 [02:24<00:00,  1.21it/s]\n",
            "                 Class     Images  Instances      Box(P          R      mAP50  mAP50-95): 100% 7/7 [00:03<00:00,  1.82it/s]\n",
            "                   all        211        350       0.51      0.557      0.555      0.323\n",
            "                 apple        211          9     0.0623      0.889       0.53      0.411\n",
            "          apple_rotten        211         11      0.736      0.257      0.796      0.646\n",
            "                banana        211          7      0.102      0.857      0.525        0.2\n",
            "         banana_rotten        211         11       0.42      0.455      0.506      0.294\n",
            "              capsicum        211          6          0          0     0.0123    0.00464\n",
            "       capsicum_rotten        211          6          1          0      0.187     0.0963\n",
            "                 guava        211         28      0.548      0.786      0.752      0.197\n",
            "          guava_rotten        211         23      0.768      0.696      0.828      0.541\n",
            "                 lemon        211         38      0.554        0.5      0.527      0.413\n",
            "                 mango        211         46      0.953      0.543      0.813      0.541\n",
            "          mango_rotten        211         11          1      0.539      0.955      0.627\n",
            "                orange        211         32      0.261      0.875      0.487      0.217\n",
            "         orange_rotten        211         35      0.494      0.657      0.609      0.191\n",
            "               package        211          6      0.872          1      0.995      0.787\n",
            "           pomegranate        211         18      0.684      0.889      0.811      0.305\n",
            "    pomegranate_rotten        211         28      0.637      0.357      0.706      0.381\n",
            "            strawberry        211          5      0.234        0.2     0.0608     0.0154\n",
            "     strawberry_rotten        211         11      0.358      0.364      0.351      0.144\n",
            "                tomato        211         13       0.24      0.615      0.332       0.23\n",
            "         tomato_rotten        211          6      0.282      0.667      0.323      0.225\n",
            "\n",
            "      Epoch    GPU_mem   box_loss   cls_loss   dfl_loss  Instances       Size\n",
            "      14/25      8.42G     0.8346      1.013      1.326         22        800: 100% 175/175 [02:23<00:00,  1.22it/s]\n",
            "                 Class     Images  Instances      Box(P          R      mAP50  mAP50-95): 100% 7/7 [00:03<00:00,  1.85it/s]\n",
            "                   all        211        350      0.649      0.474      0.513       0.28\n",
            "                 apple        211          9      0.083      0.556      0.465      0.327\n",
            "          apple_rotten        211         11          1          0      0.525      0.365\n",
            "                banana        211          7      0.116      0.714      0.348       0.13\n",
            "         banana_rotten        211         11      0.943      0.455      0.537      0.332\n",
            "              capsicum        211          6          1          0     0.0196    0.00988\n",
            "       capsicum_rotten        211          6          0          0     0.0702     0.0413\n",
            "                 guava        211         28      0.744      0.728      0.737      0.118\n",
            "          guava_rotten        211         23      0.502          1       0.73      0.406\n",
            "                 lemon        211         38      0.563      0.421      0.375      0.313\n",
            "                 mango        211         46      0.872      0.445      0.668      0.328\n",
            "          mango_rotten        211         11          1      0.529      0.932       0.65\n",
            "                orange        211         32      0.244      0.719      0.342      0.178\n",
            "         orange_rotten        211         35       0.47      0.429      0.481      0.235\n",
            "               package        211          6      0.871          1      0.995      0.771\n",
            "           pomegranate        211         18          1      0.832      0.929      0.253\n",
            "    pomegranate_rotten        211         28          1      0.596      0.908      0.445\n",
            "            strawberry        211          5          1          0     0.0145     0.0047\n",
            "     strawberry_rotten        211         11      0.819      0.415        0.6      0.279\n",
            "                tomato        211         13      0.407      0.317      0.307      0.217\n",
            "         tomato_rotten        211          6      0.349      0.333       0.27      0.207\n",
            "\n",
            "      Epoch    GPU_mem   box_loss   cls_loss   dfl_loss  Instances       Size\n",
            "      15/25      8.42G     0.8121     0.9642      1.312         13        800: 100% 175/175 [02:24<00:00,  1.21it/s]\n",
            "                 Class     Images  Instances      Box(P          R      mAP50  mAP50-95): 100% 7/7 [00:03<00:00,  1.81it/s]\n",
            "                   all        211        350      0.591      0.538      0.566      0.326\n",
            "                 apple        211          9      0.147          1      0.442      0.267\n",
            "          apple_rotten        211         11          1      0.163      0.616      0.486\n",
            "                banana        211          7      0.162      0.857      0.755      0.255\n",
            "         banana_rotten        211         11      0.769      0.364      0.448      0.262\n",
            "              capsicum        211          6          1          0     0.0357     0.0322\n",
            "       capsicum_rotten        211          6          0          0     0.0912     0.0478\n",
            "                 guava        211         28      0.752          1      0.986      0.333\n",
            "          guava_rotten        211         23      0.919      0.495       0.85       0.71\n",
            "                 lemon        211         38      0.602      0.395      0.469      0.363\n",
            "                 mango        211         46          1      0.175      0.666      0.349\n",
            "          mango_rotten        211         11      0.897      0.796       0.95      0.699\n",
            "                orange        211         32      0.185      0.812      0.348       0.16\n",
            "         orange_rotten        211         35      0.769      0.657      0.751      0.306\n",
            "               package        211          6       0.86          1      0.995      0.775\n",
            "           pomegranate        211         18      0.934      0.783      0.936      0.409\n",
            "    pomegranate_rotten        211         28      0.925      0.882      0.962      0.604\n",
            "            strawberry        211          5     0.0933        0.2     0.0699    0.00973\n",
            "     strawberry_rotten        211         11      0.409      0.636       0.57      0.159\n",
            "                tomato        211         13      0.288      0.385      0.209      0.181\n",
            "         tomato_rotten        211          6      0.114      0.167      0.172      0.116\n",
            "Closing dataloader mosaic\n",
            "\u001b[34m\u001b[1malbumentations: \u001b[0mBlur(p=0.01, blur_limit=(3, 7)), MedianBlur(p=0.01, blur_limit=(3, 7)), ToGray(p=0.01), CLAHE(p=0.01, clip_limit=(1, 4.0), tile_grid_size=(8, 8))\n",
            "\n",
            "      Epoch    GPU_mem   box_loss   cls_loss   dfl_loss  Instances       Size\n",
            "      16/25      8.42G     0.7964     0.8787      1.396          7        800: 100% 175/175 [01:29<00:00,  1.97it/s]\n",
            "                 Class     Images  Instances      Box(P          R      mAP50  mAP50-95): 100% 7/7 [00:03<00:00,  1.81it/s]\n",
            "                   all        211        350      0.546      0.537      0.527      0.306\n",
            "                 apple        211          9      0.091      0.778      0.514      0.325\n",
            "          apple_rotten        211         11      0.761      0.455      0.601       0.47\n",
            "                banana        211          7     0.0794      0.857      0.822       0.27\n",
            "         banana_rotten        211         11          1      0.181      0.445      0.273\n",
            "              capsicum        211          6          1          0    0.00857    0.00602\n",
            "       capsicum_rotten        211          6       0.21      0.105      0.177     0.0788\n",
            "                 guava        211         28      0.792       0.75      0.773      0.221\n",
            "          guava_rotten        211         23      0.823      0.811      0.902       0.72\n",
            "                 lemon        211         38      0.384      0.526      0.394      0.324\n",
            "                 mango        211         46       0.82      0.595      0.776      0.455\n",
            "          mango_rotten        211         11          1      0.528      0.864      0.591\n",
            "                orange        211         32      0.179      0.875      0.349        0.2\n",
            "         orange_rotten        211         35       0.47      0.571      0.516      0.203\n",
            "               package        211          6      0.767          1      0.995      0.797\n",
            "           pomegranate        211         18      0.737      0.779      0.759      0.207\n",
            "    pomegranate_rotten        211         28      0.964       0.96      0.963      0.703\n",
            "            strawberry        211          5       0.34        0.2      0.104     0.0111\n",
            "     strawberry_rotten        211         11       0.35      0.364      0.355      0.128\n",
            "                tomato        211         13     0.0972      0.231      0.156     0.0858\n",
            "         tomato_rotten        211          6     0.0575      0.184     0.0691     0.0551\n",
            "\n",
            "      Epoch    GPU_mem   box_loss   cls_loss   dfl_loss  Instances       Size\n",
            "      17/25      8.42G     0.7581     0.8493      1.365         10        800: 100% 175/175 [01:26<00:00,  2.02it/s]\n",
            "                 Class     Images  Instances      Box(P          R      mAP50  mAP50-95): 100% 7/7 [00:03<00:00,  1.83it/s]\n",
            "                   all        211        350      0.668      0.487       0.55      0.325\n",
            "                 apple        211          9     0.0635      0.667      0.374      0.308\n",
            "          apple_rotten        211         11      0.919      0.273      0.471       0.37\n",
            "                banana        211          7      0.169      0.857      0.633      0.238\n",
            "         banana_rotten        211         11          1      0.172      0.367      0.178\n",
            "              capsicum        211          6          1          0     0.0155    0.00472\n",
            "       capsicum_rotten        211          6      0.652      0.167      0.197     0.0759\n",
            "                 guava        211         28      0.831      0.878      0.868      0.226\n",
            "          guava_rotten        211         23          1      0.426      0.866      0.686\n",
            "                 lemon        211         38      0.697      0.158      0.409      0.338\n",
            "                 mango        211         46      0.861      0.136      0.665      0.466\n",
            "          mango_rotten        211         11      0.846      0.502      0.881      0.553\n",
            "                orange        211         32        0.2      0.688      0.219      0.135\n",
            "         orange_rotten        211         35      0.665        0.8      0.869      0.424\n",
            "               package        211          6      0.871          1      0.995      0.773\n",
            "           pomegranate        211         18      0.903          1      0.995      0.398\n",
            "    pomegranate_rotten        211         28      0.685      0.964      0.964      0.621\n",
            "            strawberry        211          5          1          0      0.106     0.0224\n",
            "     strawberry_rotten        211         11      0.515      0.485       0.44      0.142\n",
            "                tomato        211         13       0.14      0.231      0.252      0.229\n",
            "         tomato_rotten        211          6      0.347      0.333      0.406      0.307\n",
            "\n",
            "      Epoch    GPU_mem   box_loss   cls_loss   dfl_loss  Instances       Size\n",
            "      18/25      8.42G      0.737     0.7672      1.344         11        800: 100% 175/175 [01:26<00:00,  2.02it/s]\n",
            "                 Class     Images  Instances      Box(P          R      mAP50  mAP50-95): 100% 7/7 [00:04<00:00,  1.42it/s]\n",
            "                   all        211        350      0.581      0.497        0.5      0.291\n",
            "                 apple        211          9     0.0316      0.889      0.469      0.311\n",
            "          apple_rotten        211         11      0.235     0.0909      0.355      0.264\n",
            "                banana        211          7     0.0882      0.714      0.316      0.119\n",
            "         banana_rotten        211         11      0.584      0.455      0.523      0.306\n",
            "              capsicum        211          6          1          0          0          0\n",
            "       capsicum_rotten        211          6          1          0      0.285      0.121\n",
            "                 guava        211         28      0.928      0.923       0.95      0.325\n",
            "          guava_rotten        211         23      0.661      0.957       0.96      0.699\n",
            "                 lemon        211         38      0.662      0.474      0.516      0.403\n",
            "                 mango        211         46       0.84      0.115      0.423      0.311\n",
            "          mango_rotten        211         11      0.641      0.727      0.769      0.514\n",
            "                orange        211         32       0.19      0.781      0.247      0.133\n",
            "         orange_rotten        211         35      0.551      0.771      0.744      0.275\n",
            "               package        211          6      0.717          1      0.995      0.791\n",
            "           pomegranate        211         18      0.987      0.889      0.935      0.469\n",
            "    pomegranate_rotten        211         28          1      0.763      0.941      0.576\n",
            "            strawberry        211          5          1          0      0.229     0.0229\n",
            "     strawberry_rotten        211         11      0.365     0.0909      0.161     0.0355\n",
            "                tomato        211         13      0.142      0.308      0.131      0.112\n",
            "         tomato_rotten        211          6          0          0     0.0515     0.0348\n",
            "\n",
            "      Epoch    GPU_mem   box_loss   cls_loss   dfl_loss  Instances       Size\n",
            "      19/25      8.42G     0.7052     0.7116      1.311          8        800: 100% 175/175 [01:26<00:00,  2.03it/s]\n",
            "                 Class     Images  Instances      Box(P          R      mAP50  mAP50-95): 100% 7/7 [00:03<00:00,  1.76it/s]\n",
            "                   all        211        350      0.551      0.538      0.524      0.316\n",
            "                 apple        211          9      0.051      0.889      0.124      0.071\n",
            "          apple_rotten        211         11      0.681      0.198       0.54      0.385\n",
            "                banana        211          7     0.0829      0.857      0.572      0.246\n",
            "         banana_rotten        211         11       0.81      0.364      0.499      0.234\n",
            "              capsicum        211          6          1          0    0.00468    0.00421\n",
            "       capsicum_rotten        211          6          0          0      0.037     0.0196\n",
            "                 guava        211         28      0.951      0.821      0.894      0.323\n",
            "          guava_rotten        211         23      0.804      0.715       0.82      0.651\n",
            "                 lemon        211         38      0.402      0.342      0.331      0.257\n",
            "                 mango        211         46      0.552      0.196      0.501      0.317\n",
            "          mango_rotten        211         11       0.99      0.909      0.988      0.712\n",
            "                orange        211         32      0.225      0.781      0.344      0.191\n",
            "         orange_rotten        211         35      0.839      0.429       0.68      0.333\n",
            "               package        211          6      0.796          1      0.995      0.784\n",
            "           pomegranate        211         18      0.976      0.944      0.975       0.46\n",
            "    pomegranate_rotten        211         28      0.688      0.964       0.97      0.651\n",
            "            strawberry        211          5      0.204        0.2      0.218     0.0798\n",
            "     strawberry_rotten        211         11      0.369      0.321      0.425      0.145\n",
            "                tomato        211         13      0.195      0.385      0.314       0.25\n",
            "         tomato_rotten        211          6      0.396      0.443      0.243      0.201\n",
            "\n",
            "      Epoch    GPU_mem   box_loss   cls_loss   dfl_loss  Instances       Size\n",
            "      20/25      8.42G     0.6842      0.644       1.29         12        800: 100% 175/175 [01:27<00:00,  2.01it/s]\n",
            "                 Class     Images  Instances      Box(P          R      mAP50  mAP50-95): 100% 7/7 [00:03<00:00,  1.91it/s]\n",
            "                   all        211        350      0.618      0.478      0.518      0.305\n",
            "                 apple        211          9     0.0507      0.667       0.55      0.379\n",
            "          apple_rotten        211         11      0.575      0.182      0.298      0.212\n",
            "                banana        211          7     0.0861      0.857      0.429      0.147\n",
            "         banana_rotten        211         11      0.536      0.364      0.377      0.239\n",
            "              capsicum        211          6          1          0      0.016     0.0102\n",
            "       capsicum_rotten        211          6      0.869      0.333       0.34      0.138\n",
            "                 guava        211         28      0.724      0.643      0.715      0.156\n",
            "          guava_rotten        211         23      0.717          1      0.986      0.701\n",
            "                 lemon        211         38       0.43      0.263       0.33      0.241\n",
            "                 mango        211         46      0.735      0.087      0.319      0.231\n",
            "          mango_rotten        211         11          1        0.6      0.935      0.745\n",
            "                orange        211         32      0.123      0.656      0.261        0.1\n",
            "         orange_rotten        211         35      0.746        0.4      0.597      0.223\n",
            "               package        211          6      0.701          1      0.995      0.803\n",
            "           pomegranate        211         18      0.967      0.778      0.908      0.475\n",
            "    pomegranate_rotten        211         28      0.962      0.899       0.97       0.62\n",
            "            strawberry        211          5          1          0      0.234     0.0439\n",
            "     strawberry_rotten        211         11      0.612      0.273      0.502       0.12\n",
            "                tomato        211         13      0.285      0.385      0.401       0.35\n",
            "         tomato_rotten        211          6      0.236      0.167      0.203      0.176\n",
            "\n",
            "      Epoch    GPU_mem   box_loss   cls_loss   dfl_loss  Instances       Size\n",
            "      21/25      8.42G     0.6646      0.606       1.27          6        800: 100% 175/175 [01:26<00:00,  2.03it/s]\n",
            "                 Class     Images  Instances      Box(P          R      mAP50  mAP50-95): 100% 7/7 [00:04<00:00,  1.60it/s]\n",
            "                   all        211        350       0.62      0.568      0.607      0.361\n",
            "                 apple        211          9      0.149      0.889      0.631      0.401\n",
            "          apple_rotten        211         11          1      0.156      0.452      0.358\n",
            "                banana        211          7      0.244      0.714      0.575      0.235\n",
            "         banana_rotten        211         11      0.968      0.455      0.628      0.403\n",
            "              capsicum        211          6          0          0     0.0347     0.0159\n",
            "       capsicum_rotten        211          6      0.685      0.333      0.372      0.165\n",
            "                 guava        211         28      0.898      0.857       0.91      0.241\n",
            "          guava_rotten        211         23       0.77       0.87      0.938      0.713\n",
            "                 lemon        211         38      0.643      0.395      0.531      0.423\n",
            "                 mango        211         46      0.923      0.348      0.717      0.451\n",
            "          mango_rotten        211         11          1      0.813      0.976      0.732\n",
            "                orange        211         32      0.231      0.688       0.36       0.21\n",
            "         orange_rotten        211         35      0.893        0.8        0.9      0.387\n",
            "               package        211          6       0.88          1      0.995      0.793\n",
            "           pomegranate        211         18          1      0.831      0.941      0.439\n",
            "    pomegranate_rotten        211         28      0.929      0.893      0.921      0.591\n",
            "            strawberry        211          5      0.309        0.4      0.229     0.0976\n",
            "     strawberry_rotten        211         11       0.39      0.364      0.443      0.136\n",
            "                tomato        211         13      0.271      0.231      0.272      0.223\n",
            "         tomato_rotten        211          6      0.226      0.333      0.308        0.2\n",
            "\n",
            "      Epoch    GPU_mem   box_loss   cls_loss   dfl_loss  Instances       Size\n",
            "      22/25      8.42G     0.6552     0.5767      1.261         13        800: 100% 175/175 [01:25<00:00,  2.04it/s]\n",
            "                 Class     Images  Instances      Box(P          R      mAP50  mAP50-95): 100% 7/7 [00:04<00:00,  1.75it/s]\n",
            "                   all        211        350      0.707      0.511      0.544      0.337\n",
            "                 apple        211          9     0.0749      0.667      0.546      0.379\n",
            "          apple_rotten        211         11          1      0.176      0.413      0.349\n",
            "                banana        211          7      0.185      0.857       0.52      0.223\n",
            "         banana_rotten        211         11          1          0      0.383      0.181\n",
            "              capsicum        211          6          1          0     0.0168    0.00571\n",
            "       capsicum_rotten        211          6      0.513      0.167      0.253     0.0944\n",
            "                 guava        211         28      0.916      0.714      0.796      0.218\n",
            "          guava_rotten        211         23      0.999      0.609      0.865      0.755\n",
            "                 lemon        211         38      0.338      0.368      0.285       0.23\n",
            "                 mango        211         46      0.752     0.0652      0.399      0.277\n",
            "          mango_rotten        211         11          1      0.939      0.995      0.757\n",
            "                orange        211         32      0.217      0.688      0.241      0.137\n",
            "         orange_rotten        211         35      0.892      0.474      0.698      0.387\n",
            "               package        211          6      0.864          1      0.995      0.752\n",
            "           pomegranate        211         18      0.997      0.944      0.965      0.447\n",
            "    pomegranate_rotten        211         28          1      0.895      0.953      0.673\n",
            "            strawberry        211          5          1          0     0.0751    0.00751\n",
            "     strawberry_rotten        211         11      0.654      0.545      0.653      0.165\n",
            "                tomato        211         13      0.303      0.615      0.433      0.375\n",
            "         tomato_rotten        211          6      0.436        0.5      0.388      0.333\n",
            "\n",
            "      Epoch    GPU_mem   box_loss   cls_loss   dfl_loss  Instances       Size\n",
            "      23/25      8.42G     0.6158      0.524      1.219          5        800: 100% 175/175 [01:25<00:00,  2.05it/s]\n",
            "                 Class     Images  Instances      Box(P          R      mAP50  mAP50-95): 100% 7/7 [00:03<00:00,  1.84it/s]\n",
            "                   all        211        350      0.605      0.519      0.542      0.333\n",
            "                 apple        211          9      0.066      0.778      0.356      0.251\n",
            "          apple_rotten        211         11          1      0.111      0.339      0.273\n",
            "                banana        211          7       0.16      0.857        0.7      0.241\n",
            "         banana_rotten        211         11      0.799      0.364      0.605      0.348\n",
            "              capsicum        211          6          0          0          0          0\n",
            "       capsicum_rotten        211          6          1      0.283      0.346      0.148\n",
            "                 guava        211         28      0.826      0.786      0.801      0.264\n",
            "          guava_rotten        211         23      0.952      0.861      0.932      0.728\n",
            "                 lemon        211         38      0.372      0.483      0.393      0.293\n",
            "                 mango        211         46      0.452       0.18       0.39      0.237\n",
            "          mango_rotten        211         11      0.998          1      0.995      0.643\n",
            "                orange        211         32      0.239      0.656      0.378      0.219\n",
            "         orange_rotten        211         35      0.693      0.486      0.653      0.363\n",
            "               package        211          6      0.866          1      0.995       0.79\n",
            "           pomegranate        211         18      0.966      0.833      0.927      0.476\n",
            "    pomegranate_rotten        211         28      0.907      0.893      0.949      0.707\n",
            "            strawberry        211          5          1          0     0.0366      0.011\n",
            "     strawberry_rotten        211         11      0.351      0.182      0.407      0.112\n",
            "                tomato        211         13      0.344      0.462      0.492      0.445\n",
            "         tomato_rotten        211          6       0.11      0.167      0.152      0.101\n",
            "\n",
            "      Epoch    GPU_mem   box_loss   cls_loss   dfl_loss  Instances       Size\n",
            "      24/25      8.42G     0.6046     0.4956      1.217          5        800: 100% 175/175 [01:25<00:00,  2.04it/s]\n",
            "                 Class     Images  Instances      Box(P          R      mAP50  mAP50-95): 100% 7/7 [00:04<00:00,  1.62it/s]\n",
            "                   all        211        350      0.587      0.538      0.558      0.352\n",
            "                 apple        211          9     0.0665      0.889      0.426      0.275\n",
            "          apple_rotten        211         11          1       0.27      0.506      0.411\n",
            "                banana        211          7       0.17      0.714      0.618      0.238\n",
            "         banana_rotten        211         11      0.743      0.455      0.594      0.374\n",
            "              capsicum        211          6          0          0     0.0143     0.0129\n",
            "       capsicum_rotten        211          6          1          0      0.232      0.114\n",
            "                 guava        211         28      0.889      0.857      0.901      0.311\n",
            "          guava_rotten        211         23      0.892       0.87      0.942       0.74\n",
            "                 lemon        211         38      0.582      0.368      0.506      0.449\n",
            "                 mango        211         46      0.688      0.144      0.455      0.325\n",
            "          mango_rotten        211         11          1      0.965      0.995      0.728\n",
            "                orange        211         32      0.235      0.812        0.4      0.245\n",
            "         orange_rotten        211         35      0.803      0.543      0.685      0.389\n",
            "               package        211          6      0.867          1      0.995      0.791\n",
            "           pomegranate        211         18       0.95      0.778      0.932      0.449\n",
            "    pomegranate_rotten        211         28      0.716      0.964      0.968       0.67\n",
            "            strawberry        211          5      0.152      0.122     0.0964     0.0273\n",
            "     strawberry_rotten        211         11      0.635      0.476      0.427     0.0939\n",
            "                tomato        211         13      0.241      0.462      0.308      0.279\n",
            "         tomato_rotten        211          6      0.115     0.0769       0.15      0.114\n",
            "\n",
            "      Epoch    GPU_mem   box_loss   cls_loss   dfl_loss  Instances       Size\n",
            "      25/25      8.42G     0.5821     0.4523      1.187         13        800: 100% 175/175 [01:25<00:00,  2.05it/s]\n",
            "                 Class     Images  Instances      Box(P          R      mAP50  mAP50-95): 100% 7/7 [00:09<00:00,  1.30s/it]\n",
            "                   all        211        350      0.571      0.521      0.553      0.356\n",
            "                 apple        211          9     0.0652      0.889      0.513      0.367\n",
            "          apple_rotten        211         11          1          0      0.457      0.382\n",
            "                banana        211          7      0.137      0.857      0.729      0.249\n",
            "         banana_rotten        211         11      0.917      0.455      0.655        0.4\n",
            "              capsicum        211          6          0          0    0.00874    0.00786\n",
            "       capsicum_rotten        211          6      0.747      0.167      0.287      0.172\n",
            "                 guava        211         28      0.967      0.786      0.911      0.312\n",
            "          guava_rotten        211         23      0.947       0.78      0.919      0.758\n",
            "                 lemon        211         38       0.47      0.421      0.471      0.395\n",
            "                 mango        211         46      0.641      0.156      0.438      0.297\n",
            "          mango_rotten        211         11          1      0.966      0.995      0.746\n",
            "                orange        211         32      0.214      0.826      0.335      0.201\n",
            "         orange_rotten        211         35       0.78      0.543      0.645      0.381\n",
            "               package        211          6      0.864          1      0.995      0.802\n",
            "           pomegranate        211         18      0.918      0.833      0.919      0.409\n",
            "    pomegranate_rotten        211         28      0.928      0.923      0.947      0.684\n",
            "            strawberry        211          5          0          0     0.0867     0.0283\n",
            "     strawberry_rotten        211         11       0.33      0.182        0.2     0.0666\n",
            "                tomato        211         13      0.339      0.462      0.406      0.358\n",
            "         tomato_rotten        211          6      0.164      0.167      0.144       0.11\n",
            "\n",
            "25 epochs completed in 0.879 hours.\n",
            "Optimizer stripped from runs/detect/train/weights/last.pt, 22.6MB\n",
            "Optimizer stripped from runs/detect/train/weights/best.pt, 22.6MB\n",
            "\n",
            "Validating runs/detect/train/weights/best.pt...\n",
            "Ultralytics YOLOv8.0.20 🚀 Python-3.10.12 torch-2.0.1+cu118 CUDA:0 (Tesla T4, 15102MiB)\n",
            "Model summary (fused): 168 layers, 11136033 parameters, 0 gradients, 28.5 GFLOPs\n",
            "                 Class     Images  Instances      Box(P          R      mAP50  mAP50-95): 100% 7/7 [00:08<00:00,  1.16s/it]\n",
            "                   all        211        350       0.62      0.568      0.607      0.361\n",
            "                 apple        211          9      0.149      0.889      0.641      0.407\n",
            "          apple_rotten        211         11          1      0.155      0.444      0.352\n",
            "                banana        211          7      0.244      0.714      0.575      0.235\n",
            "         banana_rotten        211         11      0.961      0.455      0.626      0.405\n",
            "              capsicum        211          6          0          0     0.0347     0.0159\n",
            "       capsicum_rotten        211          6      0.685      0.333      0.372      0.165\n",
            "                 guava        211         28      0.898      0.857       0.91      0.241\n",
            "          guava_rotten        211         23      0.769       0.87      0.938      0.713\n",
            "                 lemon        211         38      0.642      0.395      0.532      0.424\n",
            "                 mango        211         46      0.921      0.348      0.717      0.451\n",
            "          mango_rotten        211         11          1      0.813      0.976      0.732\n",
            "                orange        211         32      0.231      0.688       0.36      0.209\n",
            "         orange_rotten        211         35      0.893        0.8        0.9      0.386\n",
            "               package        211          6       0.88          1      0.995      0.793\n",
            "           pomegranate        211         18          1      0.831      0.941      0.441\n",
            "    pomegranate_rotten        211         28       0.93      0.893      0.921      0.591\n",
            "            strawberry        211          5      0.308        0.4      0.229     0.0976\n",
            "     strawberry_rotten        211         11      0.388      0.364      0.443      0.136\n",
            "                tomato        211         13       0.27      0.231      0.272      0.223\n",
            "         tomato_rotten        211          6      0.226      0.333      0.308        0.2\n",
            "Speed: 5.7ms pre-process, 7.2ms inference, 0.0ms loss, 3.5ms post-process per image\n",
            "Results saved to \u001b[1mruns/detect/train\u001b[0m\n"
          ]
        }
      ],
      "source": [
        "%cd {HOME}\n",
        "\n",
        "!yolo task=detect mode=train model=yolov8s.pt data={dataset.location}/data.yaml epochs=25 imgsz=800 plots=True"
      ]
    },
    {
      "cell_type": "code",
      "execution_count": null,
      "metadata": {
        "colab": {
          "base_uri": "https://localhost:8080/"
        },
        "id": "1MScstfHhArr",
        "outputId": "3477b6c1-7a7f-45a2-e84f-927386515682"
      },
      "outputs": [
        {
          "output_type": "stream",
          "name": "stdout",
          "text": [
            "args.yaml\t\t\t\t\t    train_batch2625.jpg\n",
            "confusion_matrix.png\t\t\t\t    train_batch2626.jpg\n",
            "events.out.tfevents.1691262949.290f29ea45a0.1782.0  train_batch2627.jpg\n",
            "F1_curve.png\t\t\t\t\t    train_batch2.jpg\n",
            "P_curve.png\t\t\t\t\t    val_batch0_labels.jpg\n",
            "PR_curve.png\t\t\t\t\t    val_batch0_pred.jpg\n",
            "R_curve.png\t\t\t\t\t    val_batch1_labels.jpg\n",
            "results.csv\t\t\t\t\t    val_batch1_pred.jpg\n",
            "results.png\t\t\t\t\t    val_batch2_labels.jpg\n",
            "train_batch0.jpg\t\t\t\t    val_batch2_pred.jpg\n",
            "train_batch1.jpg\t\t\t\t    weights\n"
          ]
        }
      ],
      "source": [
        "!ls {HOME}/runs/detect/train/"
      ]
    },
    {
      "cell_type": "code",
      "source": [
        "## Matriz de Confusion"
      ],
      "metadata": {
        "id": "HWDf30X7nTGg"
      },
      "execution_count": null,
      "outputs": []
    },
    {
      "cell_type": "code",
      "execution_count": null,
      "metadata": {
        "colab": {
          "base_uri": "https://localhost:8080/",
          "height": 369
        },
        "id": "_J35i8Ofhjxa",
        "outputId": "369636cb-7917-4fa0-c703-431d4498a549"
      },
      "outputs": [
        {
          "output_type": "stream",
          "name": "stdout",
          "text": [
            "/content\n"
          ]
        },
        {
          "output_type": "error",
          "ename": "FileNotFoundError",
          "evalue": "ignored",
          "traceback": [
            "\u001b[0;31m---------------------------------------------------------------------------\u001b[0m",
            "\u001b[0;31mFileNotFoundError\u001b[0m                         Traceback (most recent call last)",
            "\u001b[0;32m<ipython-input-13-966a07a3ca91>\u001b[0m in \u001b[0;36m<cell line: 2>\u001b[0;34m()\u001b[0m\n\u001b[1;32m      1\u001b[0m \u001b[0mget_ipython\u001b[0m\u001b[0;34m(\u001b[0m\u001b[0;34m)\u001b[0m\u001b[0;34m.\u001b[0m\u001b[0mrun_line_magic\u001b[0m\u001b[0;34m(\u001b[0m\u001b[0;34m'cd'\u001b[0m\u001b[0;34m,\u001b[0m \u001b[0;34m'{HOME}'\u001b[0m\u001b[0;34m)\u001b[0m\u001b[0;34m\u001b[0m\u001b[0;34m\u001b[0m\u001b[0m\n\u001b[0;32m----> 2\u001b[0;31m \u001b[0mImage\u001b[0m\u001b[0;34m(\u001b[0m\u001b[0mfilename\u001b[0m\u001b[0;34m=\u001b[0m\u001b[0;34mf'{HOME}/runs/detect/train2/confusion_matrix.png'\u001b[0m\u001b[0;34m,\u001b[0m \u001b[0mwidth\u001b[0m\u001b[0;34m=\u001b[0m\u001b[0;36m600\u001b[0m\u001b[0;34m)\u001b[0m\u001b[0;34m\u001b[0m\u001b[0;34m\u001b[0m\u001b[0m\n\u001b[0m",
            "\u001b[0;32m/usr/local/lib/python3.10/dist-packages/IPython/core/display.py\u001b[0m in \u001b[0;36m__init__\u001b[0;34m(self, data, url, filename, format, embed, width, height, retina, unconfined, metadata)\u001b[0m\n\u001b[1;32m   1229\u001b[0m         \u001b[0mself\u001b[0m\u001b[0;34m.\u001b[0m\u001b[0mretina\u001b[0m \u001b[0;34m=\u001b[0m \u001b[0mretina\u001b[0m\u001b[0;34m\u001b[0m\u001b[0;34m\u001b[0m\u001b[0m\n\u001b[1;32m   1230\u001b[0m         \u001b[0mself\u001b[0m\u001b[0;34m.\u001b[0m\u001b[0munconfined\u001b[0m \u001b[0;34m=\u001b[0m \u001b[0munconfined\u001b[0m\u001b[0;34m\u001b[0m\u001b[0;34m\u001b[0m\u001b[0m\n\u001b[0;32m-> 1231\u001b[0;31m         super(Image, self).__init__(data=data, url=url, filename=filename, \n\u001b[0m\u001b[1;32m   1232\u001b[0m                 metadata=metadata)\n\u001b[1;32m   1233\u001b[0m \u001b[0;34m\u001b[0m\u001b[0m\n",
            "\u001b[0;32m/usr/local/lib/python3.10/dist-packages/IPython/core/display.py\u001b[0m in \u001b[0;36m__init__\u001b[0;34m(self, data, url, filename, metadata)\u001b[0m\n\u001b[1;32m    635\u001b[0m             \u001b[0mself\u001b[0m\u001b[0;34m.\u001b[0m\u001b[0mmetadata\u001b[0m \u001b[0;34m=\u001b[0m \u001b[0;34m{\u001b[0m\u001b[0;34m}\u001b[0m\u001b[0;34m\u001b[0m\u001b[0;34m\u001b[0m\u001b[0m\n\u001b[1;32m    636\u001b[0m \u001b[0;34m\u001b[0m\u001b[0m\n\u001b[0;32m--> 637\u001b[0;31m         \u001b[0mself\u001b[0m\u001b[0;34m.\u001b[0m\u001b[0mreload\u001b[0m\u001b[0;34m(\u001b[0m\u001b[0;34m)\u001b[0m\u001b[0;34m\u001b[0m\u001b[0;34m\u001b[0m\u001b[0m\n\u001b[0m\u001b[1;32m    638\u001b[0m         \u001b[0mself\u001b[0m\u001b[0;34m.\u001b[0m\u001b[0m_check_data\u001b[0m\u001b[0;34m(\u001b[0m\u001b[0;34m)\u001b[0m\u001b[0;34m\u001b[0m\u001b[0;34m\u001b[0m\u001b[0m\n\u001b[1;32m    639\u001b[0m \u001b[0;34m\u001b[0m\u001b[0m\n",
            "\u001b[0;32m/usr/local/lib/python3.10/dist-packages/IPython/core/display.py\u001b[0m in \u001b[0;36mreload\u001b[0;34m(self)\u001b[0m\n\u001b[1;32m   1261\u001b[0m         \u001b[0;34m\"\"\"Reload the raw data from file or URL.\"\"\"\u001b[0m\u001b[0;34m\u001b[0m\u001b[0;34m\u001b[0m\u001b[0m\n\u001b[1;32m   1262\u001b[0m         \u001b[0;32mif\u001b[0m \u001b[0mself\u001b[0m\u001b[0;34m.\u001b[0m\u001b[0membed\u001b[0m\u001b[0;34m:\u001b[0m\u001b[0;34m\u001b[0m\u001b[0;34m\u001b[0m\u001b[0m\n\u001b[0;32m-> 1263\u001b[0;31m             \u001b[0msuper\u001b[0m\u001b[0;34m(\u001b[0m\u001b[0mImage\u001b[0m\u001b[0;34m,\u001b[0m\u001b[0mself\u001b[0m\u001b[0;34m)\u001b[0m\u001b[0;34m.\u001b[0m\u001b[0mreload\u001b[0m\u001b[0;34m(\u001b[0m\u001b[0;34m)\u001b[0m\u001b[0;34m\u001b[0m\u001b[0;34m\u001b[0m\u001b[0m\n\u001b[0m\u001b[1;32m   1264\u001b[0m             \u001b[0;32mif\u001b[0m \u001b[0mself\u001b[0m\u001b[0;34m.\u001b[0m\u001b[0mretina\u001b[0m\u001b[0;34m:\u001b[0m\u001b[0;34m\u001b[0m\u001b[0;34m\u001b[0m\u001b[0m\n\u001b[1;32m   1265\u001b[0m                 \u001b[0mself\u001b[0m\u001b[0;34m.\u001b[0m\u001b[0m_retina_shape\u001b[0m\u001b[0;34m(\u001b[0m\u001b[0;34m)\u001b[0m\u001b[0;34m\u001b[0m\u001b[0;34m\u001b[0m\u001b[0m\n",
            "\u001b[0;32m/usr/local/lib/python3.10/dist-packages/IPython/core/display.py\u001b[0m in \u001b[0;36mreload\u001b[0;34m(self)\u001b[0m\n\u001b[1;32m    660\u001b[0m         \u001b[0;34m\"\"\"Reload the raw data from file or URL.\"\"\"\u001b[0m\u001b[0;34m\u001b[0m\u001b[0;34m\u001b[0m\u001b[0m\n\u001b[1;32m    661\u001b[0m         \u001b[0;32mif\u001b[0m \u001b[0mself\u001b[0m\u001b[0;34m.\u001b[0m\u001b[0mfilename\u001b[0m \u001b[0;32mis\u001b[0m \u001b[0;32mnot\u001b[0m \u001b[0;32mNone\u001b[0m\u001b[0;34m:\u001b[0m\u001b[0;34m\u001b[0m\u001b[0;34m\u001b[0m\u001b[0m\n\u001b[0;32m--> 662\u001b[0;31m             \u001b[0;32mwith\u001b[0m \u001b[0mopen\u001b[0m\u001b[0;34m(\u001b[0m\u001b[0mself\u001b[0m\u001b[0;34m.\u001b[0m\u001b[0mfilename\u001b[0m\u001b[0;34m,\u001b[0m \u001b[0mself\u001b[0m\u001b[0;34m.\u001b[0m\u001b[0m_read_flags\u001b[0m\u001b[0;34m)\u001b[0m \u001b[0;32mas\u001b[0m \u001b[0mf\u001b[0m\u001b[0;34m:\u001b[0m\u001b[0;34m\u001b[0m\u001b[0;34m\u001b[0m\u001b[0m\n\u001b[0m\u001b[1;32m    663\u001b[0m                 \u001b[0mself\u001b[0m\u001b[0;34m.\u001b[0m\u001b[0mdata\u001b[0m \u001b[0;34m=\u001b[0m \u001b[0mf\u001b[0m\u001b[0;34m.\u001b[0m\u001b[0mread\u001b[0m\u001b[0;34m(\u001b[0m\u001b[0;34m)\u001b[0m\u001b[0;34m\u001b[0m\u001b[0;34m\u001b[0m\u001b[0m\n\u001b[1;32m    664\u001b[0m         \u001b[0;32melif\u001b[0m \u001b[0mself\u001b[0m\u001b[0;34m.\u001b[0m\u001b[0murl\u001b[0m \u001b[0;32mis\u001b[0m \u001b[0;32mnot\u001b[0m \u001b[0;32mNone\u001b[0m\u001b[0;34m:\u001b[0m\u001b[0;34m\u001b[0m\u001b[0;34m\u001b[0m\u001b[0m\n",
            "\u001b[0;31mFileNotFoundError\u001b[0m: [Errno 2] No such file or directory: '/content/runs/detect/train2/confusion_matrix.png'"
          ]
        }
      ],
      "source": [
        "%cd {HOME}\n",
        "Image(filename=f'{HOME}/runs/detect/train2/confusion_matrix.png', width=600)"
      ]
    },
    {
      "cell_type": "code",
      "execution_count": null,
      "metadata": {
        "id": "A-urTWUkhRmn"
      },
      "outputs": [],
      "source": [
        "%cd {HOME}\n",
        "Image(filename=f'{HOME}/runs/detect/train2/results.png', width=600)"
      ]
    },
    {
      "cell_type": "code",
      "execution_count": null,
      "metadata": {
        "id": "HI4nADCCj3F5"
      },
      "outputs": [],
      "source": [
        "%cd {HOME}\n",
        "Image(filename=f'{HOME}/runs/detect/train2/val_batch0_pred.jpg', width=600)"
      ]
    },
    {
      "cell_type": "markdown",
      "metadata": {
        "id": "6ODk1VTlevxn"
      },
      "source": [
        "## Validate Custom Model"
      ]
    },
    {
      "cell_type": "code",
      "execution_count": null,
      "metadata": {
        "id": "YpyuwrNlXc1P"
      },
      "outputs": [],
      "source": [
        "%cd {HOME}\n",
        "\n",
        "!yolo task=detect mode=val model={HOME}/runs/detect/train/weights/best.pt data={dataset.location}/data.yaml"
      ]
    },
    {
      "cell_type": "markdown",
      "metadata": {
        "id": "i4eASbcWkQBq"
      },
      "source": [
        "## Inference with Custom Model"
      ]
    },
    {
      "cell_type": "code",
      "execution_count": null,
      "metadata": {
        "id": "Wjc1ctZykYuf"
      },
      "outputs": [],
      "source": [
        "%cd {HOME}\n",
        "!yolo task=detect mode=predict model={HOME}/runs/detect/train/weights/best.pt conf=0.25 source={dataset.location}/test/images save=True"
      ]
    },
    {
      "cell_type": "markdown",
      "metadata": {
        "id": "mEYIo95n-I0S"
      },
      "source": [
        "**NOTE:** Let's take a look at few results."
      ]
    },
    {
      "cell_type": "code",
      "execution_count": null,
      "metadata": {
        "id": "jbVjEtPAkz3j"
      },
      "outputs": [],
      "source": [
        "import glob\n",
        "from IPython.display import Image, display\n",
        "\n",
        "for image_path in glob.glob(f'{HOME}/runs/detect/predict3/*.jpg')[:3]:\n",
        "      display(Image(filename=image_path, width=600))\n",
        "      print(\"\\n\")"
      ]
    },
    {
      "cell_type": "code",
      "execution_count": null,
      "metadata": {
        "id": "6EhBAJ2gCPZh"
      },
      "outputs": [],
      "source": [
        "project.version(dataset.version).deploy(model_type=\"yolov8\", model_path=f\"{HOME}/runs/detect/train/\")"
      ]
    },
    {
      "cell_type": "code",
      "execution_count": null,
      "metadata": {
        "id": "q5kOhjkmcV1l"
      },
      "outputs": [],
      "source": [
        "#While your deployment is processing, checkout the deployment docs to take your model to most destinations https://docs.roboflow.com/inference"
      ]
    },
    {
      "cell_type": "code",
      "execution_count": null,
      "metadata": {
        "id": "I4bpUIibcV1l"
      },
      "outputs": [],
      "source": [
        "#Run inference on your model on a persistant, auto-scaling, cloud API\n",
        "\n",
        "#load model\n",
        "model = project.version(dataset.version).model\n",
        "\n",
        "#choose random test set image\n",
        "import os, random\n",
        "test_set_loc = dataset.location + \"/test/images/\"\n",
        "random_test_image = random.choice(os.listdir(test_set_loc))\n",
        "print(\"running inference on \" + random_test_image)\n",
        "\n",
        "pred = model.predict(test_set_loc + random_test_image, confidence=40, overlap=30).json()\n",
        "pred"
      ]
    },
    {
      "cell_type": "markdown",
      "metadata": {
        "id": "ovQgOj_xSNDg"
      },
      "source": [
        "## 🏆 Congratulations\n",
        "\n",
        "### Learning Resources\n",
        "\n",
        "Roboflow has produced many resources that you may find interesting as you advance your knowledge of computer vision:\n",
        "\n",
        "- [Roboflow Notebooks](https://github.com/roboflow/notebooks): A repository of over 20 notebooks that walk through how to train custom models with a range of model types, from YOLOv7 to SegFormer.\n",
        "- [Roboflow YouTube](https://www.youtube.com/c/Roboflow): Our library of videos featuring deep dives into the latest in computer vision, detailed tutorials that accompany our notebooks, and more.\n",
        "- [Roboflow Discuss](https://discuss.roboflow.com/): Have a question about how to do something on Roboflow? Ask your question on our discussion forum.\n",
        "- [Roboflow Models](https://roboflow.com): Learn about state-of-the-art models and their performance. Find links and tutorials to guide your learning.\n",
        "\n",
        "### Convert data formats\n",
        "\n",
        "Roboflow provides free utilities to convert data between dozens of popular computer vision formats. Check out [Roboflow Formats](https://roboflow.com/formats) to find tutorials on how to convert data between formats in a few clicks.\n",
        "\n",
        "### Connect computer vision to your project logic\n",
        "\n",
        "[Roboflow Templates](https://roboflow.com/templates) is a public gallery of code snippets that you can use to connect computer vision to your project logic. Code snippets range from sending emails after inference to measuring object distance between detections."
      ]
    }
  ],
  "metadata": {
    "accelerator": "GPU",
    "colab": {
      "provenance": [],
      "include_colab_link": true
    },
    "gpuClass": "standard",
    "kernelspec": {
      "display_name": "Python 3",
      "name": "python3"
    },
    "language_info": {
      "name": "python"
    }
  },
  "nbformat": 4,
  "nbformat_minor": 0
}